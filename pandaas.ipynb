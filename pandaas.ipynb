{
 "cells": [
  {
   "cell_type": "code",
   "execution_count": 63,
   "metadata": {},
   "outputs": [
    {
     "output_type": "stream",
     "name": "stdout",
     "text": "DatetimeIndex(['2020-01-01', '2020-01-02', '2020-01-03', '2020-01-04',\n               '2020-01-05', '2020-01-06'],\n              dtype='datetime64[ns]', freq='D')\n"
    }
   ],
   "source": [
    "import numpy as np\n",
    "import pandas as pd\n",
    "\n",
    "dates = pd.date_range('20200101',periods=6)\n",
    "\n",
    "print(dates)\n",
    "\n"
   ]
  },
  {
   "cell_type": "code",
   "execution_count": 64,
   "metadata": {},
   "outputs": [
    {
     "output_type": "stream",
     "name": "stdout",
     "text": "0    1.0\n1    3.0\n2    5.0\n3    NaN\n4    6.0\n5    8.0\ndtype: float64\n"
    }
   ],
   "source": [
    "s = pd.Series([1,3,5,np.nan,6,8])\n",
    "\n",
    "print(s)"
   ]
  },
  {
   "cell_type": "code",
   "execution_count": 65,
   "metadata": {},
   "outputs": [
    {
     "output_type": "stream",
     "name": "stdout",
     "text": "A         B         C         D\n2020-01-01  0.852148 -0.466352  1.800802  2.022818\n2020-01-02 -0.172563  0.724914 -0.300704 -0.706491\n2020-01-03 -0.606337 -0.300695 -0.424323 -1.591438\n2020-01-04 -1.267296  0.873674  0.975244  0.466677\n2020-01-05  2.036306  0.430237 -0.719295  0.436568\n2020-01-06 -0.245808 -0.211528  0.152019  0.501381\n"
    }
   ],
   "source": [
    "df = pd.DataFrame(np.random.randn(6,4),dates, columns=list('ABCD'))\n",
    "\n",
    "print(df)"
   ]
  },
  {
   "cell_type": "code",
   "execution_count": 66,
   "metadata": {},
   "outputs": [],
   "source": [
    "df2 = pd.DataFrame(\n",
    "                        {\n",
    "                            'A': 1,\n",
    "                            'B': pd.Timestamp('20130102'),\n",
    "                            'C': pd.Series(1, index=list(range(4)), dtype='float32'),\n",
    "                            'D': np.array([3] * 4, dtype='int32'),\n",
    "                            'E' : pd.Categorical([\"test\",\"train\",\"test\",\"train\"]),\n",
    "                            'F' : 'foo'\n",
    "                        }                \n",
    ")"
   ]
  },
  {
   "cell_type": "code",
   "execution_count": 67,
   "metadata": {},
   "outputs": [
    {
     "output_type": "execute_result",
     "data": {
      "text/plain": "Index(['A', 'B', 'C', 'D', 'E', 'F'], dtype='object')"
     },
     "metadata": {},
     "execution_count": 67
    }
   ],
   "source": [
    "df2.columns"
   ]
  },
  {
   "cell_type": "code",
   "execution_count": 69,
   "metadata": {},
   "outputs": [
    {
     "output_type": "execute_result",
     "data": {
      "text/plain": "array([[ 0.85214756, -0.46635232,  1.80080215,  2.02281812],\n       [-0.17256296,  0.72491424, -0.30070357, -0.7064909 ],\n       [-0.60633682, -0.30069496, -0.42432294, -1.59143814],\n       [-1.26729646,  0.87367412,  0.9752442 ,  0.4666765 ],\n       [ 2.03630618,  0.4302374 , -0.71929523,  0.43656833],\n       [-0.24580847, -0.21152803,  0.15201892,  0.50138101]])"
     },
     "metadata": {},
     "execution_count": 69
    }
   ],
   "source": [
    "df.to_numpy()"
   ]
  },
  {
   "cell_type": "code",
   "execution_count": null,
   "metadata": {},
   "outputs": [],
   "source": []
  }
 ],
 "metadata": {
  "language_info": {
   "codemirror_mode": {
    "name": "ipython",
    "version": 3
   },
   "file_extension": ".py",
   "mimetype": "text/x-python",
   "name": "python",
   "nbconvert_exporter": "python",
   "pygments_lexer": "ipython3",
   "version": "3.8.3-final"
  },
  "orig_nbformat": 2,
  "kernelspec": {
   "name": "python38364bit1eb6156168be4fca9d1529395375821b",
   "display_name": "Python 3.8.3 64-bit"
  }
 },
 "nbformat": 4,
 "nbformat_minor": 2
}